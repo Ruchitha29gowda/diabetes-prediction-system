{
 "cells": [
  {
   "cell_type": "code",
   "execution_count": 79,
   "metadata": {},
   "outputs": [],
   "source": [
    "# Import necessary libraries for machine learning models\n",
    "from sklearn.svm import SVC\n",
    "from sklearn.linear_model import LogisticRegression\n",
    "from sklearn.neighbors import KNeighborsClassifier\n",
    "from sklearn.naive_bayes import GaussianNB\n",
    "from sklearn.neural_network import MLPClassifier\n",
    "from sklearn.metrics import accuracy_score, confusion_matrix, classification_report\n",
    "from sklearn.model_selection import train_test_split\n",
    "from sklearn.ensemble import VotingClassifier\n",
    "\n",
    "import joblib\n",
    "import numpy as np\n",
    "\n",
    "\n",
    "# Import necessary libraries\n",
    "import pandas as pd\n",
    "from sklearn.utils import shuffle\n",
    "from sklearn.preprocessing import StandardScaler, LabelEncoder\n",
    "from sklearn.impute import SimpleImputer"
   ]
  },
  {
   "cell_type": "code",
   "execution_count": 80,
   "metadata": {},
   "outputs": [],
   "source": [
    "# Load the dataset\n",
    "# Replace 'path_to_your_dataset.csv' with the actual path to your dataset\n",
    "df = pd.read_csv('data.csv')\n"
   ]
  },
  {
   "cell_type": "code",
   "execution_count": 81,
   "metadata": {},
   "outputs": [
    {
     "name": "stdout",
     "output_type": "stream",
     "text": [
      "Diabetic Count: 8500\n",
      "Non-Diabetic Count: 91500\n"
     ]
    }
   ],
   "source": [
    "# Assuming df is your original DataFrame after preprocessing\n",
    "df_diabetic = df[df['diabetes'] == 1]  # Diabetic samples\n",
    "df_non_diabetic = df[df['diabetes'] == 0]  # Non-diabetic samples\n",
    "\n",
    "# Count how many individuals are diabetic\n",
    "diabetic_count = df['diabetes'].value_counts()\n",
    "print(f\"Diabetic Count: {diabetic_count[1]}\")  # Assuming '1' indicates diabetic\n",
    "print(f\"Non-Diabetic Count: {diabetic_count[0]}\")  # Assuming '0' indicates non-diabetic\n"
   ]
  },
  {
   "cell_type": "code",
   "execution_count": 82,
   "metadata": {},
   "outputs": [
    {
     "name": "stdout",
     "output_type": "stream",
     "text": [
      "Balanced Diabetic Count: 8500\n",
      "Balanced Non-Diabetic Count: 8500\n",
      "       gender   age  hypertension  heart_disease    bmi  HbA1c_level  \\\n",
      "17328  Female  27.0             0              0  23.91          5.0   \n",
      "60483  Female  67.0             0              0  29.93          6.2   \n",
      "46998  Female  11.0             0              0  18.46          6.6   \n",
      "26328    Male  41.0             0              0  37.10          8.8   \n",
      "74525  Female  53.0             0              0  44.90          6.8   \n",
      "\n",
      "       blood_glucose_level  diabetes  \n",
      "17328                  160         0  \n",
      "60483                  159         1  \n",
      "46998                   80         0  \n",
      "26328                  220         1  \n",
      "74525                  300         1  \n"
     ]
    }
   ],
   "source": [
    "# Randomly undersample the non-diabetic samples to match the number of diabetic samples\n",
    "df_non_diabetic_undersampled = df_non_diabetic.sample(len(df_diabetic), random_state=42)\n",
    "\n",
    "# Combine the undersampled non-diabetic samples with diabetic samples\n",
    "df_balanced = pd.concat([df_diabetic, df_non_diabetic_undersampled])\n",
    "\n",
    "# Shuffle the resulting DataFrame to mix the classes\n",
    "df_balanced = shuffle(df_balanced, random_state=42)\n",
    "df_balanced = df_balanced.drop(columns=['smoking_history'])\n",
    "# Check the balance of the new dataset\n",
    "balanced_count = df_balanced['diabetes'].value_counts()\n",
    "print(f\"Balanced Diabetic Count: {balanced_count[1]}\")\n",
    "print(f\"Balanced Non-Diabetic Count: {balanced_count[0]}\")\n",
    "\n",
    "# Optional: Display the first few rows of the balanced dataset\n",
    "print(df_balanced.head())"
   ]
  },
  {
   "cell_type": "code",
   "execution_count": 83,
   "metadata": {},
   "outputs": [
    {
     "name": "stdout",
     "output_type": "stream",
     "text": [
      "(17000, 8)\n",
      "Balanced Diabetic Count: 8500\n",
      "Balanced Non-Diabetic Count: 8500\n"
     ]
    }
   ],
   "source": [
    "df = df_balanced\n",
    "print(df.shape)\n",
    "\n",
    "# Check the balance of the new dataset\n",
    "balanced_count = df_balanced['diabetes'].value_counts()\n",
    "print(f\"Balanced Diabetic Count: {balanced_count[1]}\")\n",
    "print(f\"Balanced Non-Diabetic Count: {balanced_count[0]}\")"
   ]
  },
  {
   "cell_type": "code",
   "execution_count": 84,
   "metadata": {},
   "outputs": [],
   "source": [
    "# 1. Handling missing values\n",
    "# Assuming that missing values are marked as NaN in the dataset\n",
    "\n",
    "# For numerical columns, we can fill missing values with the mean of the column\n",
    "num_cols = ['age', 'bmi', 'HbA1c_level', 'blood_glucose_level']\n",
    "imputer = SimpleImputer(strategy='mean')\n",
    "df[num_cols] = imputer.fit_transform(df[num_cols])"
   ]
  },
  {
   "cell_type": "code",
   "execution_count": 85,
   "metadata": {},
   "outputs": [],
   "source": [
    "# For categorical columns, we can fill missing values with the most frequent value\n",
    "cat_cols = ['gender', 'hypertension', 'heart_disease']\n",
    "imputer_cat = SimpleImputer(strategy='most_frequent')\n",
    "df[cat_cols] = imputer_cat.fit_transform(df[cat_cols])"
   ]
  },
  {
   "cell_type": "code",
   "execution_count": 86,
   "metadata": {},
   "outputs": [
    {
     "name": "stdout",
     "output_type": "stream",
     "text": [
      "Index(['gender', 'age', 'hypertension', 'heart_disease', 'bmi', 'HbA1c_level',\n",
      "       'blood_glucose_level', 'diabetes'],\n",
      "      dtype='object')\n"
     ]
    }
   ],
   "source": [
    "# Encode 'gender' and 'smoking_history' using Label Encoding or One-Hot Encoding\n",
    "label_enc = LabelEncoder()\n",
    "\n",
    "# Label encoding for binary variables\n",
    "df['gender'] = label_enc.fit_transform(df['gender'])  # Assuming 'Male' and 'Female'\n",
    "\n",
    "print(df.columns)"
   ]
  },
  {
   "cell_type": "code",
   "execution_count": 87,
   "metadata": {},
   "outputs": [
    {
     "data": {
      "text/plain": [
       "Index(['gender', 'age', 'hypertension', 'heart_disease', 'bmi', 'HbA1c_level',\n",
       "       'blood_glucose_level', 'diabetes'],\n",
       "      dtype='object')"
      ]
     },
     "execution_count": 87,
     "metadata": {},
     "output_type": "execute_result"
    }
   ],
   "source": [
    "# 3. Normalizing/Scaling numerical features\n",
    "# Scaling numeric columns such as 'age', 'bmi', 'HbA1c_level', 'blood_glucose_level'\n",
    "scaler = StandardScaler()\n",
    "df[num_cols] = scaler.fit_transform(df[num_cols])\n",
    "\n",
    "df.columns"
   ]
  },
  {
   "cell_type": "code",
   "execution_count": 88,
   "metadata": {},
   "outputs": [],
   "source": [
    "# 4. Splitting the dataset into features (X) and target (y)\n",
    "X = df.drop('diabetes', axis=1)  # Features\n",
    "y = df['diabetes']  # Target"
   ]
  },
  {
   "cell_type": "code",
   "execution_count": 89,
   "metadata": {},
   "outputs": [],
   "source": [
    "# Optional: Split into training and testing sets (80% train, 20% test)\n",
    "X_train, X_test, y_train, y_test = train_test_split(X, y, test_size=0.2, random_state=42)\n"
   ]
  },
  {
   "cell_type": "code",
   "execution_count": 90,
   "metadata": {},
   "outputs": [],
   "source": [
    "# Function to train, evaluate and display the results of models\n",
    "def evaluate_model(model, model_name):\n",
    "    # Train the model\n",
    "    model.fit(X_train, y_train)\n",
    "    \n",
    "    # Make predictions\n",
    "    y_pred = model.predict(X_test)\n",
    "    \n",
    "    # Evaluate the model\n",
    "    accuracy = accuracy_score(y_test, y_pred)\n",
    "    cm = confusion_matrix(y_test, y_pred)\n",
    "    report = classification_report(y_test, y_pred)\n",
    "    \n",
    "    # Print the results\n",
    "    print(f\"{model_name} Results:\")\n",
    "    print(f\"Accuracy: {accuracy * 100:.2f}%\")\n",
    "    print(\"Confusion Matrix:\\n\", cm)\n",
    "    print(\"Classification Report:\\n\", report)\n",
    "    print(\"\\n\" + \"=\"*60 + \"\\n\")\n"
   ]
  },
  {
   "cell_type": "code",
   "execution_count": 91,
   "metadata": {},
   "outputs": [
    {
     "name": "stdout",
     "output_type": "stream",
     "text": [
      "Logistic Regression Results:\n",
      "Accuracy: 88.15%\n",
      "Confusion Matrix:\n",
      " [[1530  172]\n",
      " [ 231 1467]]\n",
      "Classification Report:\n",
      "               precision    recall  f1-score   support\n",
      "\n",
      "           0       0.87      0.90      0.88      1702\n",
      "           1       0.90      0.86      0.88      1698\n",
      "\n",
      "    accuracy                           0.88      3400\n",
      "   macro avg       0.88      0.88      0.88      3400\n",
      "weighted avg       0.88      0.88      0.88      3400\n",
      "\n",
      "\n",
      "============================================================\n",
      "\n"
     ]
    }
   ],
   "source": [
    "# 1. Logistic Regression\n",
    "log_reg = LogisticRegression(max_iter=1000)  # Increase max_iter if necessary\n",
    "evaluate_model(log_reg, \"Logistic Regression\")\n"
   ]
  },
  {
   "cell_type": "code",
   "execution_count": 92,
   "metadata": {},
   "outputs": [
    {
     "name": "stdout",
     "output_type": "stream",
     "text": [
      "Support Vector Machine (SVM) Results:\n",
      "Accuracy: 88.47%\n",
      "Confusion Matrix:\n",
      " [[1523  179]\n",
      " [ 213 1485]]\n",
      "Classification Report:\n",
      "               precision    recall  f1-score   support\n",
      "\n",
      "           0       0.88      0.89      0.89      1702\n",
      "           1       0.89      0.87      0.88      1698\n",
      "\n",
      "    accuracy                           0.88      3400\n",
      "   macro avg       0.88      0.88      0.88      3400\n",
      "weighted avg       0.88      0.88      0.88      3400\n",
      "\n",
      "\n",
      "============================================================\n",
      "\n"
     ]
    }
   ],
   "source": [
    "# 2. Support Vector Machine (SVM)\n",
    "svm_model = SVC(kernel='linear', probability=True)  # Linear kernel for simplicity\n",
    "evaluate_model(svm_model, \"Support Vector Machine (SVM)\")"
   ]
  },
  {
   "cell_type": "code",
   "execution_count": 93,
   "metadata": {},
   "outputs": [
    {
     "name": "stdout",
     "output_type": "stream",
     "text": [
      "k-Nearest Neighbors (k-NN) Results:\n",
      "Accuracy: 88.24%\n",
      "Confusion Matrix:\n",
      " [[1507  195]\n",
      " [ 205 1493]]\n",
      "Classification Report:\n",
      "               precision    recall  f1-score   support\n",
      "\n",
      "           0       0.88      0.89      0.88      1702\n",
      "           1       0.88      0.88      0.88      1698\n",
      "\n",
      "    accuracy                           0.88      3400\n",
      "   macro avg       0.88      0.88      0.88      3400\n",
      "weighted avg       0.88      0.88      0.88      3400\n",
      "\n",
      "\n",
      "============================================================\n",
      "\n"
     ]
    }
   ],
   "source": [
    "\n",
    "# 3. k-Nearest Neighbors (k-NN)\n",
    "knn_model = KNeighborsClassifier(n_neighbors=5)  # You can tune n_neighbors based on your data\n",
    "evaluate_model(knn_model, \"k-Nearest Neighbors (k-NN)\")"
   ]
  },
  {
   "cell_type": "code",
   "execution_count": 94,
   "metadata": {},
   "outputs": [
    {
     "name": "stdout",
     "output_type": "stream",
     "text": [
      "Naive Bayes (GaussianNB) Results:\n",
      "Accuracy: 83.35%\n",
      "Confusion Matrix:\n",
      " [[1542  160]\n",
      " [ 406 1292]]\n",
      "Classification Report:\n",
      "               precision    recall  f1-score   support\n",
      "\n",
      "           0       0.79      0.91      0.84      1702\n",
      "           1       0.89      0.76      0.82      1698\n",
      "\n",
      "    accuracy                           0.83      3400\n",
      "   macro avg       0.84      0.83      0.83      3400\n",
      "weighted avg       0.84      0.83      0.83      3400\n",
      "\n",
      "\n",
      "============================================================\n",
      "\n"
     ]
    }
   ],
   "source": [
    "# 4. Naive Bayes (Gaussian Naive Bayes)\n",
    "nb_model = GaussianNB()\n",
    "evaluate_model(nb_model, \"Naive Bayes (GaussianNB)\")\n"
   ]
  },
  {
   "cell_type": "code",
   "execution_count": 95,
   "metadata": {},
   "outputs": [
    {
     "name": "stdout",
     "output_type": "stream",
     "text": [
      "Multi-Layer Perceptron (MLP) Results:\n",
      "Accuracy: 91.12%\n",
      "Confusion Matrix:\n",
      " [[1530  172]\n",
      " [ 130 1568]]\n",
      "Classification Report:\n",
      "               precision    recall  f1-score   support\n",
      "\n",
      "           0       0.92      0.90      0.91      1702\n",
      "           1       0.90      0.92      0.91      1698\n",
      "\n",
      "    accuracy                           0.91      3400\n",
      "   macro avg       0.91      0.91      0.91      3400\n",
      "weighted avg       0.91      0.91      0.91      3400\n",
      "\n",
      "\n",
      "============================================================\n",
      "\n"
     ]
    }
   ],
   "source": [
    "# 5. Multi-layer Perceptron (MLP - Neural Network)\n",
    "mlp_model = MLPClassifier(hidden_layer_sizes=(100,), max_iter=1000)  # Can tune hidden layers\n",
    "evaluate_model(mlp_model, \"Multi-Layer Perceptron (MLP)\")"
   ]
  },
  {
   "cell_type": "code",
   "execution_count": 96,
   "metadata": {},
   "outputs": [
    {
     "name": "stdout",
     "output_type": "stream",
     "text": [
      "Ensemble Model (Voting Classifier) Results:\n",
      "Accuracy: 89.21%\n",
      "Confusion Matrix:\n",
      " [[1564  138]\n",
      " [ 229 1469]]\n",
      "Classification Report:\n",
      "               precision    recall  f1-score   support\n",
      "\n",
      "           0       0.87      0.92      0.89      1702\n",
      "           1       0.91      0.87      0.89      1698\n",
      "\n",
      "    accuracy                           0.89      3400\n",
      "   macro avg       0.89      0.89      0.89      3400\n",
      "weighted avg       0.89      0.89      0.89      3400\n",
      "\n",
      "\n",
      "============================================================\n",
      "\n"
     ]
    }
   ],
   "source": [
    "\n",
    "# Define the ensemble model (using soft voting for averaging probabilities)\n",
    "voting_clf = VotingClassifier(\n",
    "    estimators=[\n",
    "        ('log_reg', log_reg),\n",
    "        ('svm', svm_model),\n",
    "        ('knn', knn_model),\n",
    "        ('nb', nb_model),\n",
    "        ('mlp', mlp_model)\n",
    "    ],\n",
    "    voting='soft'  # Use 'hard' for majority voting\n",
    ")\n",
    "\n",
    "# Train and evaluate the ensemble model\n",
    "evaluate_model(voting_clf, \"Ensemble Model (Voting Classifier)\")"
   ]
  },
  {
   "cell_type": "code",
   "execution_count": 97,
   "metadata": {},
   "outputs": [],
   "source": [
    "def predict_manual_input(model, input_data):\n",
    "    # Ensure input_data is a NumPy array and reshape it for prediction\n",
    "    input_data = np.array(input_data).reshape(1, -1)\n",
    "    \n",
    "    # Scale the necessary columns\n",
    "    input_data[:, [1, 4, 5, 6]] = scaler.transform(input_data[:, [1, 4, 5, 6]])\n",
    "    \n",
    "    # Predict the class\n",
    "    prediction = model.predict(input_data)\n",
    "    pred_proba = model.predict_proba(input_data) if hasattr(model, \"predict_proba\") else None\n",
    "    \n",
    "    # Print the result\n",
    "    print(f\"Predicted Class: {'Diabetic' if prediction[0] == 1 else 'Non-Diabetic'}\")\n",
    "    if pred_proba is not None:\n",
    "        print(f\"Predicted Probabilities: {pred_proba}\")\n"
   ]
  },
  {
   "cell_type": "code",
   "execution_count": 98,
   "metadata": {},
   "outputs": [
    {
     "name": "stdout",
     "output_type": "stream",
     "text": [
      "Predicted Class: Diabetic\n",
      "Predicted Probabilities: [[0.13104315 0.86895685]]\n"
     ]
    },
    {
     "name": "stderr",
     "output_type": "stream",
     "text": [
      "c:\\Program Files\\Python312\\Lib\\site-packages\\sklearn\\base.py:493: UserWarning: X does not have valid feature names, but StandardScaler was fitted with feature names\n",
      "  warnings.warn(\n",
      "c:\\Program Files\\Python312\\Lib\\site-packages\\sklearn\\base.py:493: UserWarning: X does not have valid feature names, but LogisticRegression was fitted with feature names\n",
      "  warnings.warn(\n",
      "c:\\Program Files\\Python312\\Lib\\site-packages\\sklearn\\base.py:493: UserWarning: X does not have valid feature names, but SVC was fitted with feature names\n",
      "  warnings.warn(\n",
      "c:\\Program Files\\Python312\\Lib\\site-packages\\sklearn\\base.py:493: UserWarning: X does not have valid feature names, but KNeighborsClassifier was fitted with feature names\n",
      "  warnings.warn(\n",
      "c:\\Program Files\\Python312\\Lib\\site-packages\\sklearn\\base.py:493: UserWarning: X does not have valid feature names, but GaussianNB was fitted with feature names\n",
      "  warnings.warn(\n",
      "c:\\Program Files\\Python312\\Lib\\site-packages\\sklearn\\base.py:493: UserWarning: X does not have valid feature names, but MLPClassifier was fitted with feature names\n",
      "  warnings.warn(\n",
      "c:\\Program Files\\Python312\\Lib\\site-packages\\sklearn\\base.py:493: UserWarning: X does not have valid feature names, but LogisticRegression was fitted with feature names\n",
      "  warnings.warn(\n",
      "c:\\Program Files\\Python312\\Lib\\site-packages\\sklearn\\base.py:493: UserWarning: X does not have valid feature names, but SVC was fitted with feature names\n",
      "  warnings.warn(\n",
      "c:\\Program Files\\Python312\\Lib\\site-packages\\sklearn\\base.py:493: UserWarning: X does not have valid feature names, but KNeighborsClassifier was fitted with feature names\n",
      "  warnings.warn(\n",
      "c:\\Program Files\\Python312\\Lib\\site-packages\\sklearn\\base.py:493: UserWarning: X does not have valid feature names, but GaussianNB was fitted with feature names\n",
      "  warnings.warn(\n",
      "c:\\Program Files\\Python312\\Lib\\site-packages\\sklearn\\base.py:493: UserWarning: X does not have valid feature names, but MLPClassifier was fitted with feature names\n",
      "  warnings.warn(\n"
     ]
    }
   ],
   "source": [
    "# Test the ensemble model with manual input\n",
    "# Input format: [gender, age, hypertension, heart_disease, smoking_history, bmi, HbA1c_level, blood_glucose_level]\n",
    "manual_input = [1, 67.0, 0, 1, 27.32, 6.5, 200]\n",
    "\n",
    "# Male,67.0,0,1,not current,27.32,6.5,200,1\n",
    "predict_manual_input(voting_clf, manual_input)"
   ]
  },
  {
   "cell_type": "code",
   "execution_count": 103,
   "metadata": {},
   "outputs": [
    {
     "name": "stdout",
     "output_type": "stream",
     "text": [
      "Predicted Class: Non-Diabetic\n",
      "Predicted Probabilities: [[0.99304777 0.00695223]]\n"
     ]
    },
    {
     "name": "stderr",
     "output_type": "stream",
     "text": [
      "c:\\Program Files\\Python312\\Lib\\site-packages\\sklearn\\base.py:493: UserWarning: X does not have valid feature names, but StandardScaler was fitted with feature names\n",
      "  warnings.warn(\n",
      "c:\\Program Files\\Python312\\Lib\\site-packages\\sklearn\\base.py:493: UserWarning: X does not have valid feature names, but LogisticRegression was fitted with feature names\n",
      "  warnings.warn(\n",
      "c:\\Program Files\\Python312\\Lib\\site-packages\\sklearn\\base.py:493: UserWarning: X does not have valid feature names, but SVC was fitted with feature names\n",
      "  warnings.warn(\n",
      "c:\\Program Files\\Python312\\Lib\\site-packages\\sklearn\\base.py:493: UserWarning: X does not have valid feature names, but KNeighborsClassifier was fitted with feature names\n",
      "  warnings.warn(\n",
      "c:\\Program Files\\Python312\\Lib\\site-packages\\sklearn\\base.py:493: UserWarning: X does not have valid feature names, but GaussianNB was fitted with feature names\n",
      "  warnings.warn(\n",
      "c:\\Program Files\\Python312\\Lib\\site-packages\\sklearn\\base.py:493: UserWarning: X does not have valid feature names, but MLPClassifier was fitted with feature names\n",
      "  warnings.warn(\n",
      "c:\\Program Files\\Python312\\Lib\\site-packages\\sklearn\\base.py:493: UserWarning: X does not have valid feature names, but LogisticRegression was fitted with feature names\n",
      "  warnings.warn(\n",
      "c:\\Program Files\\Python312\\Lib\\site-packages\\sklearn\\base.py:493: UserWarning: X does not have valid feature names, but SVC was fitted with feature names\n",
      "  warnings.warn(\n",
      "c:\\Program Files\\Python312\\Lib\\site-packages\\sklearn\\base.py:493: UserWarning: X does not have valid feature names, but KNeighborsClassifier was fitted with feature names\n",
      "  warnings.warn(\n",
      "c:\\Program Files\\Python312\\Lib\\site-packages\\sklearn\\base.py:493: UserWarning: X does not have valid feature names, but GaussianNB was fitted with feature names\n",
      "  warnings.warn(\n",
      "c:\\Program Files\\Python312\\Lib\\site-packages\\sklearn\\base.py:493: UserWarning: X does not have valid feature names, but MLPClassifier was fitted with feature names\n",
      "  warnings.warn(\n"
     ]
    }
   ],
   "source": [
    "\n",
    "# Test the ensemble model with manual input\n",
    "manual_input = [0,42.0,0,0,27.32,5.7,80]  # Adjusted input without smoking history\n",
    "predict_manual_input(voting_clf, manual_input)"
   ]
  },
  {
   "cell_type": "code",
   "execution_count": 100,
   "metadata": {},
   "outputs": [
    {
     "data": {
      "text/plain": [
       "['scaler.pkl']"
      ]
     },
     "execution_count": 100,
     "metadata": {},
     "output_type": "execute_result"
    }
   ],
   "source": [
    "# Save the trained model using joblib\n",
    "joblib.dump(voting_clf, 'diabetes_voting_model.pkl')\n",
    "joblib.dump(scaler, 'scaler.pkl')  # Save the scaler as well for consistent preprocessing"
   ]
  }
 ],
 "metadata": {
  "kernelspec": {
   "display_name": "Python 3",
   "language": "python",
   "name": "python3"
  },
  "language_info": {
   "codemirror_mode": {
    "name": "ipython",
    "version": 3
   },
   "file_extension": ".py",
   "mimetype": "text/x-python",
   "name": "python",
   "nbconvert_exporter": "python",
   "pygments_lexer": "ipython3",
   "version": "3.12.6"
  }
 },
 "nbformat": 4,
 "nbformat_minor": 2
}
